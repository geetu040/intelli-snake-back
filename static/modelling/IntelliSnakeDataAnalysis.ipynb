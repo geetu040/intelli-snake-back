{
  "nbformat": 4,
  "nbformat_minor": 0,
  "metadata": {
    "colab": {
      "name": "IntelliSnake.ipynb",
      "provenance": [],
      "collapsed_sections": [
        "lOi6Gfsl97bp",
        "giQPpwq299vb",
        "oHxRx0e8-Doc",
        "AoUVdbhd-CWa",
        "6T0C4JQqYqmV",
        "ONJFPGwGy-ic",
        "SMKTaTsDzBTP",
        "-5t-FhDlzOYT",
        "I5-E9S7q6bCm",
        "H5dx0ZZf6YvR"
      ]
    },
    "kernelspec": {
      "name": "python3",
      "display_name": "Python 3"
    },
    "language_info": {
      "name": "python"
    },
    "accelerator": "GPU"
  },
  "cells": [
    {
      "cell_type": "code",
      "source": [
        "import numpy as np\n",
        "import matplotlib.pyplot as plt\n",
        "import json\n",
        "from sklearn.model_selection import train_test_split\n",
        "import tensorflow as tf\n",
        "from tensorflow.keras import layers, models, callbacks, optimizers, regularizers"
      ],
      "metadata": {
        "id": "8rvcYXNWYlmE"
      },
      "execution_count": 1,
      "outputs": []
    },
    {
      "cell_type": "markdown",
      "source": [
        "# Initializing"
      ],
      "metadata": {
        "id": "lOi6Gfsl97bp"
      }
    },
    {
      "cell_type": "code",
      "source": [
        "def plot_history(history, val=True):\n",
        "\tplt.figure(figsize=(20, 4))\n",
        "\tplt.subplot(1, 2, 1)\n",
        "\tplt.plot(history['acc'])\n",
        "\tif val: plt.plot(history['val_acc'])\n",
        "\tplt.xlabel(\"epochs\")\n",
        "\tplt.ylabel(\"acc\")\n",
        "\tif val: plt.legend([\"acc\", \"val_acc\"])\n",
        "\tplt.subplot(1, 2, 2)\n",
        "\tplt.plot(history['loss'])\n",
        "\tif val: plt.plot(history['val_loss'])\n",
        "\tplt.xlabel(\"epochs\")\n",
        "\tplt.ylabel(\"loss\")\n",
        "\tif val: plt.legend([\"loss\", \"val_loss\"])\n",
        "\tplt.show()\n",
        "\tif val:\n",
        "\t\tprint(f\"\"\"\n",
        "acc      : {round(history['acc'][-1], 3)}\n",
        "val_acc  : {round(history['val_acc'][-1], 3)}\n",
        "loss     : {round(history['loss'][-1], 3)}\n",
        "val_loss : {round(history['val_loss'][-1], 3)}\n",
        "\t\"\"\")\n",
        "\telse:\n",
        "\t\tprint(f\"\"\"\n",
        "acc      : {round(history['acc'][-1], 3)}\n",
        "loss     : {round(history['loss'][-1], 3)}\n",
        "\t\"\"\")\n",
        "\n",
        " \n",
        "def process_data(dataset_url, get_maps=False, scale=True):\n",
        "\t# FETCHING THE DATASET\n",
        "\tdataset = np.load(dataset_url)\n",
        "\tx_train, x_test, y_train, y_test = dataset['x_train'], dataset['x_test'], dataset['y_train'], dataset['y_test']\n",
        "\tx = np.concatenate([x_train, x_test])\n",
        "\ty = np.concatenate([y_train, y_test])\n",
        "\t# SHUFFLING THE DATASET\n",
        "\tr = np.random.permutation(x.shape[0])\n",
        "\tx = x[r]\n",
        "\ty = y[r]\n",
        "\t# CREATING 2D ARRAY OF MAP\n",
        "\tpic_x = np.apply_along_axis(\n",
        "\t\tlambda x: x.tolist().index(1),\n",
        "\t\t3,\n",
        "\t\tx,\n",
        "\t)\n",
        "\t\t\n",
        "\t# GETTING POSSIBLE DIRECTIONS AND POSSITIONS OF HEAD AND FOOD\n",
        "\tdef get_possition_dirs(x):\n",
        "\t\tfood_x, food_y = np.where(x == 2)[1], np.where(x == 2)[0]\n",
        "\t\thead_x, head_y = np.where(x == 3)[1], np.where(x == 3)[0]\n",
        "\n",
        "\t\tpossible_dirs = [\n",
        "\t\t\tint(x[head_y-1, head_x] == 0 or x[head_y-1, head_x] == 2),\n",
        "\t\t\tint(x[head_y, head_x-1] == 0 or x[head_y, head_x-1] == 2),\n",
        "\t\t\tint(x[head_y+1, head_x] == 0 or x[head_y+1, head_x] == 2),\n",
        "\t\t\tint(x[head_y, head_x+1] == 0 or x[head_y, head_x+1] == 2),\n",
        "\t\t]\n",
        "\t\tpossitions = [head_x[0], head_y[0], food_x[0], food_y[0]]\n",
        "\t\tif scale:\n",
        "\t\t\tpossitions[0] /= 27\n",
        "\t\t\tpossitions[1] /= 30\n",
        "\t\t\tpossitions[2] /= 27\n",
        "\t\t\tpossitions[3] /= 30\n",
        "\t\treturn possitions, possible_dirs\n",
        "\tpossitions = []\n",
        "\tpossible_dirs = []\n",
        "\tfor i in pic_x:\n",
        "\t\ta = get_possition_dirs(i)\n",
        "\t\tpossitions.append(a[0])\n",
        "\t\tpossible_dirs.append(a[1])\n",
        "\tpossitions = np.array(possitions)\n",
        "\tpossible_dirs = np.array(possible_dirs)\n",
        "\n",
        "\tif get_maps:\n",
        "\t\t# GETTING MAPS\n",
        "\t\tmaps = np.where(pic_x == 1, 1, 0)\n",
        "\t\tmaps = maps.reshape(maps.shape + (1,))\n",
        "\t\treturn maps, possitions, possible_dirs, y\n",
        "\telse:\n",
        "\t\treturn possitions, possible_dirs, y\n",
        "\n",
        "def proceed_model(model, inputs, outputs, model_name, epochs=10000, verbose=0, patience=200, test_size=0.1, include_callbacks=True, extract_valid=False, callback_monitor='acc'):\n",
        "\n",
        "    if type(inputs) == list:\n",
        "        r = np.random.permutation(outputs.shape[0])\n",
        "        for i in range(len(inputs)):\n",
        "            inputs[i] = inputs[i][r]\n",
        "        outputs = outputs[r]\n",
        "\n",
        "        border_index = int(len(outputs)*(1-test_size))\n",
        "        if model_name == \"fixed\":\n",
        "            x_train = [inputs[0][:border_index], inputs[1][:border_index]]\n",
        "            x_test = [inputs[0][border_index:], inputs[1][border_index:]]\n",
        "        else:\n",
        "            x_train = [inputs[0][:border_index], inputs[1][:border_index], inputs[2][:border_index]]\n",
        "            x_test = [inputs[0][border_index:], inputs[1][border_index:], inputs[2][border_index:]]\n",
        "        y_train = outputs[:border_index]\n",
        "        y_test = outputs[border_index:]\n",
        "    else:\n",
        "        from sklearn.model_selection import train_test_split\n",
        "        x_train, x_test, y_train, y_test = train_test_split(inputs, outputs, test_size=test_size)\n",
        "\n",
        "    model.compile(optimizer='adam', loss='sparse_categorical_crossentropy', metrics=['acc'])\n",
        "    if include_callbacks:\n",
        "        my_callbacks = [\n",
        "                    callbacks.EarlyStopping(patience=patience,monitor = callback_monitor,min_delta = 0.01,mode = 'max',),\n",
        "                    callbacks.ModelCheckpoint(filepath=models_url + model_name + '.h5',save_weights_only=True,frequency='epoch',save_freq='epoch',save_best_only=True,monitor='acc',mode='max',)\n",
        "                ]\n",
        "    else:\n",
        "        my_callbacks = None\n",
        "    with tf.device('GPU:0'):\n",
        "        if not extract_valid:\n",
        "            if type(inputs) == list:\n",
        "                for i in range(len(x_train)):\n",
        "                    x_train[i] = np.concatenate([x_train[i], x_test[i]])\n",
        "            else: x_train = np.concatenate([x_train, x_test])\n",
        "            y_train = np.concatenate([y_train, y_test])\n",
        "        history = model.fit(x_train, y_train, epochs=epochs, verbose=verbose, callbacks=my_callbacks, validation_split=test_size)\n",
        "    if include_callbacks:\n",
        "        with open(models_url + model_name + \".json\", \"w\") as f:\n",
        "            f.write(model.to_json())\n",
        "    plot_history(history.history, val=not extract_valid)\n",
        "\n",
        "    # EVALUTAING THE MODEL\n",
        "    if include_callbacks:\n",
        "        with open(models_url + model_name + \".json\", \"r\") as f:\n",
        "            loaded_model = models.model_from_json(f.read())\n",
        "        loaded_model.load_weights(models_url + model_name + \".h5\")\n",
        "    else: loaded_model = model\n",
        "\n",
        "    loaded_model.compile(optimizer='adam', loss='sparse_categorical_crossentropy', metrics=['acc'])\n",
        "    loaded_model.evaluate(x_test, y_test)"
      ],
      "metadata": {
        "id": "i55VGdnN-Nse"
      },
      "execution_count": 2,
      "outputs": []
    },
    {
      "cell_type": "code",
      "source": [
        "\"/content/drive/MyDrive/Cloud/Temp Files/\"\n",
        "fixed_dataset_url = \"/content/drive/MyDrive/Cloud/Temp Files//fixed_dataset.npz\"\n",
        "random_dataset_url = \"/content/drive/MyDrive/Cloud/Temp Files//random_dataset.npz\"\n",
        "binary_map_url = \"/content/drive/MyDrive/Cloud/Temp Files//binary_map.json\"\n",
        "models_url = \"/content/drive/MyDrive/Cloud/Temp Files//\"\n",
        "finalized_fixed_model_url = \"/content/drive/MyDrive/Cloud/Temp Files/Finalized/fixed_model\"\n",
        "finalized_random_model_url = \"/content/drive/MyDrive/Cloud/Temp Files/Finalized/random_model\"\n",
        "\n",
        "# GETTING THE ALREADY TRAINED MODELS\n",
        "if True:\n",
        "    with open(finalized_fixed_model_url + \".json\") as f:\n",
        "        loaded_finalized_fixed_model = models.model_from_json(f.read())\n",
        "    loaded_finalized_fixed_model.load_weights(finalized_fixed_model_url + \".h5\")\n",
        "\n",
        "    with open(finalized_random_model_url + \".json\") as f:\n",
        "        loaded_finalized_random_model = models.model_from_json(f.read())\n",
        "    loaded_finalized_random_model.load_weights(finalized_random_model_url + \".h5\")\n",
        "\n",
        "    loaded_finalized_fixed_model.compile(\"adam\", \"sparse_categorical_crossentropy\", ['acc'])\n",
        "    loaded_finalized_random_model.compile(\"adam\", \"sparse_categorical_crossentropy\", ['acc'])"
      ],
      "metadata": {
        "id": "D8j49rVQ-S8V"
      },
      "execution_count": 3,
      "outputs": []
    },
    {
      "cell_type": "markdown",
      "source": [
        "# Random"
      ],
      "metadata": {
        "id": "giQPpwq299vb"
      }
    },
    {
      "cell_type": "code",
      "source": [
        "random_maps, random_poss, random_dirs, random_y = process_data(random_dataset_url, get_maps=True, scale=True)"
      ],
      "metadata": {
        "id": "isaCtAAd-ibg"
      },
      "execution_count": null,
      "outputs": []
    },
    {
      "cell_type": "markdown",
      "source": [
        "## Using Tranfer"
      ],
      "metadata": {
        "id": "oHxRx0e8-Doc"
      }
    },
    {
      "cell_type": "code",
      "source": [
        "loaded_finalized_random_model.evaluate([random_maps, random_poss, random_dirs], random_y)"
      ],
      "metadata": {
        "id": "48JjlbkxOBSm"
      },
      "execution_count": null,
      "outputs": []
    },
    {
      "cell_type": "code",
      "source": [
        "transfer_model = loaded_finalized_fixed_model\n",
        "transfer_model.trainable = True\n",
        "\n",
        "\n",
        "input_maps = layers.Input(shape=(31, 28, 1), name=\"input_maps\")\n",
        "input_poss = layers.Input(shape=(4,), name=\"input_poss\")\n",
        "input_dirs = layers.Input(shape=(4,), name=\"input_dirs\")\n",
        "input_tsfr = transfer_model([input_poss, input_dirs])\n",
        "\n",
        "model_maps = models.Sequential([\n",
        "\n",
        "    # maps MODEL\n",
        "    layers.Conv2D(4, 2, padding='SAME', activation='linear'),\n",
        "    layers.Conv2D(8, 2, padding='SAME', activation='tanh'),\n",
        "    layers.AveragePooling2D(2),\n",
        "    layers.MaxPooling2D(2),\n",
        "    layers.Flatten(),\n",
        "    layers.Dropout(0.3),\n",
        "    layers.Dense(80, activation='relu'),\n",
        "    layers.Dropout(0.4),\n",
        "    layers.Dense(400, activation='relu'),\n",
        "    layers.Dropout(0.3),\n",
        "    layers.Dense(1600, activation='relu'),\n",
        "    layers.Dropout(0.5),\n",
        "    layers.Dense(800, activation='relu'),\n",
        "    layers.Dropout(0.4),\n",
        "    layers.Dense(20, activation='relu'),\n",
        "    # ====\n",
        "\n",
        "])(input_maps)\n",
        "model_poss = models.Sequential([\n",
        "\n",
        "    # poss MODEL\n",
        "    layers.Dense(20, activation=\"relu\"),\n",
        "    layers.Dense(400, activation=\"relu\"),\n",
        "    layers.Dropout(0.4),\n",
        "    layers.Dense(20, activation=\"relu\"),\n",
        "    # ====\n",
        "\n",
        "])(input_poss)\n",
        "model_dirs = models.Sequential([\n",
        "\n",
        "    # dirs MODEL\n",
        "    layers.Dense(20, activation=\"relu\"),\n",
        "    layers.Dense(400, activation=\"relu\"),\n",
        "    layers.Dropout(0.4),\n",
        "    layers.Dense(20, activation=\"relu\"),\n",
        "    # ====\n",
        "\n",
        "])(input_dirs)\n",
        "model_tsfr = models.Sequential([\n",
        "\n",
        "    #  tsfr MODEL\n",
        "    layers.Dense(20, activation=\"relu\"),\n",
        "    layers.Dense(400, activation=\"relu\"),\n",
        "    layers.Dropout(0.4),\n",
        "    layers.Dense(20, activation=\"relu\"),\n",
        "    # ====\n",
        "\n",
        "])(input_tsfr)\n",
        "\n",
        "output_maps = layers.Dense(40, activation='relu', name=\"output_maps\")(model_maps)\n",
        "output_poss = layers.Dense(10, activation='relu', name=\"output_poss\")(model_poss)\n",
        "output_dirs = layers.Dense(10, activation='relu', name=\"output_dirs\")(model_dirs)\n",
        "output_tsfr = layers.Dense(10, activation='relu', name=\"output_tsfr\")(model_tsfr)\n",
        "\n",
        "input_conc = layers.Concatenate()([output_maps, output_poss, output_dirs, output_tsfr])\n",
        "model_conc = models.Sequential([\n",
        "\n",
        "    #  conc MODEL\n",
        "    layers.Dense(80, activation='relu', kernel_regularizer=regularizers.l2(0.01)),\n",
        "    layers.Dropout(0.4),\n",
        "    layers.Dense(400, activation='relu', kernel_regularizer=regularizers.l2(0.01)),\n",
        "    layers.Dropout(0.4),\n",
        "    layers.Dense(800, activation='relu', kernel_regularizer=regularizers.l2(0.01)),\n",
        "    layers.Dropout(0.5),\n",
        "    layers.Dense(1600, activation='relu', kernel_regularizer=regularizers.l2(0.01)),\n",
        "    layers.Dropout(0.4),\n",
        "    layers.Dense(80, activation='relu', kernel_regularizer=regularizers.l2(0.01)),\n",
        "    layers.Dropout(0.2),\n",
        "    layers.Dense(20, activation='relu', kernel_regularizer=regularizers.l2(0.01)),\n",
        "    # ====\n",
        "\n",
        "])(input_conc)\n",
        "output_conc = layers.Dense(4, activation='sigmoid')(model_conc)\n",
        "\n",
        "random_model = models.Model(inputs=[input_maps, input_poss, input_dirs], outputs=output_conc)\n",
        "# random_model.summary()\n",
        "proceed_model(\n",
        "    model=random_model,\n",
        "    model_name=\"random_model\",\n",
        "    inputs=[random_maps, random_poss, random_dirs],\n",
        "    outputs=random_y,\n",
        "    epochs=10000,\n",
        "    patience=50,\n",
        "    verbose=0,\n",
        "    test_size=0.2,\n",
        "    plot_val=False,\n",
        ")"
      ],
      "metadata": {
        "id": "4ACEHJ8k-geU"
      },
      "execution_count": null,
      "outputs": []
    },
    {
      "cell_type": "code",
      "source": [
        "\"\"\"\n",
        "transfer-random: 0.922 0.9298\n",
        "transfer-fixed:  0.92  0.8977\n",
        "\"\"\""
      ],
      "metadata": {
        "id": "8sZLYUx7Fe7m"
      },
      "execution_count": null,
      "outputs": []
    },
    {
      "cell_type": "markdown",
      "source": [
        "## Using Functional"
      ],
      "metadata": {
        "id": "w4AXGJRV-Ib8"
      }
    },
    {
      "cell_type": "code",
      "source": [
        "input_maps = layers.Input(shape=(31, 28, 1), name=\"input_maps\")\n",
        "input_poss = layers.Input(shape=(4,), name=\"input_poss\")\n",
        "input_dirs = layers.Input(shape=(4,), name=\"input_dirs\")\n",
        "\n",
        "model_maps = models.Sequential([\n",
        "                                \n",
        "    # MAPS\n",
        "    layers.Conv2D(4, 2, padding='SAME', activation='linear'),\n",
        "    layers.Conv2D(8, 2, padding='SAME', activation='tanh'),\n",
        "    layers.AveragePooling2D(2),\n",
        "    layers.MaxPooling2D(2),\n",
        "    layers.Flatten(),\n",
        "    layers.Dense(80, activation='relu'),\n",
        "    layers.Dropout(0.4),\n",
        "    layers.Dense(400, activation='relu'),\n",
        "    layers.Dropout(0.3),\n",
        "    layers.Dense(1600, activation='relu'),\n",
        "    layers.Dropout(0.4),\n",
        "    layers.Dense(800, activation='relu'),\n",
        "    layers.Dropout(0.4),\n",
        "    layers.Dense(20, activation='relu'),\n",
        "\n",
        "], name=\"model_maps\")(input_maps)\n",
        "model_poss = models.Sequential([\n",
        "                                \n",
        "    # POSS\n",
        "    layers.Dense(20, activation=\"relu\"),\n",
        "    layers.Dense(400, activation=\"relu\"),\n",
        "    layers.Dropout(0.4),\n",
        "    layers.Dense(20, activation=\"relu\"),\n",
        "\n",
        "], name=\"model_poss\")(input_poss)\n",
        "model_dirs = models.Sequential([\n",
        "                                \n",
        "    # DIRS\n",
        "    layers.Dense(20, activation=\"relu\"),\n",
        "    layers.Dense(400, activation=\"relu\"),\n",
        "    layers.Dropout(0.4),\n",
        "    layers.Dense(20, activation=\"relu\"),\n",
        "\n",
        "], name=\"model_dirs\")(input_dirs)\n",
        "\n",
        "output_maps = layers.Dense(40, activation='relu', name=\"output_maps\")(model_maps)\n",
        "output_poss = layers.Dense(10, activation='relu', name=\"output_poss\")(model_poss)\n",
        "output_dirs = layers.Dense(10, activation='relu', name=\"output_dirs\")(model_dirs)\n",
        "\n",
        "input_conc = layers.Concatenate(name=\"input_conc\")([output_maps, output_poss, output_dirs])\n",
        "model_conc = models.Sequential([\n",
        "\n",
        "    # CONC\n",
        "    layers.Dense(80, activation='relu'),\n",
        "    layers.Dropout(0.4),\n",
        "    layers.Dense(400, activation='relu'),\n",
        "    layers.Dropout(0.4),\n",
        "    layers.Dense(800, activation='relu'),\n",
        "    layers.Dropout(0.5),\n",
        "    layers.Dense(1600, activation='relu'),\n",
        "    layers.Dense(2400, activation='relu'),\n",
        "    layers.Dropout(0.2),\n",
        "    layers.Dense(4000, activation='relu'),\n",
        "    layers.Dropout(0.5),\n",
        "    layers.Dense(400, activation='relu'),\n",
        "    layers.Dense(80, activation='relu'),\n",
        "    layers.Dropout(0.2),\n",
        "    layers.Dense(20, activation='relu'),\n",
        "], name=\"model_conc\")(input_conc)\n",
        "output_conc = layers.Dense(4, activation='softmax', name=\"output_conc\")(model_conc)\n",
        "\n",
        "random_model = models.Model(inputs=[input_maps, input_poss, input_dirs], outputs=output_conc, name=\"random_model\")\n",
        "proceed_model(\n",
        "    model=random_model,\n",
        "    model_name=\"random_model\",\n",
        "    inputs=[random_maps, random_poss, random_dirs],\n",
        "    outputs=random_y,\n",
        "    epochs=10000,\n",
        "    patience=1000,\n",
        "    verbose=0,\n",
        "    test_size=0.2,\n",
        "    plot_val=False,\n",
        ")"
      ],
      "metadata": {
        "id": "r_sGi-oC-laI"
      },
      "execution_count": null,
      "outputs": []
    },
    {
      "cell_type": "code",
      "source": [
        "random_model.evaluate([random_maps, random_poss, random_dirs], random_y)"
      ],
      "metadata": {
        "id": "gC5WY8cEz-jl"
      },
      "execution_count": null,
      "outputs": []
    },
    {
      "cell_type": "markdown",
      "source": [
        "# Fixed"
      ],
      "metadata": {
        "id": "AoUVdbhd-CWa"
      }
    },
    {
      "cell_type": "code",
      "source": [
        "fixed_poss, fixed_dirs, fixed_y = process_data(fixed_dataset_url, get_maps=False, scale=True)"
      ],
      "metadata": {
        "id": "y_0F_uaK99Fw"
      },
      "execution_count": null,
      "outputs": []
    },
    {
      "cell_type": "code",
      "source": [
        "# POSSITIONS\n",
        "input_poss = layers.Input(shape=(4,))\n",
        "model_poss = models.Sequential([\n",
        "\tlayers.Dense(20, activation='relu'),\n",
        "\t# layers.Dense(200, activation='relu'),\n",
        "\tlayers.Dense(80, activation='relu'),\n",
        "\t# layers.Dropout(0.3),\n",
        "\tlayers.Dense(400, activation='relu'),\n",
        "])(input_poss)\n",
        "output_poss = layers.Dense(10, activation='relu')(model_poss)\n",
        "\n",
        "# POSSIBLE DIRECTIONS\n",
        "input_dirs = layers.Input(shape=(4,))\n",
        "model_dirs = models.Sequential([\n",
        "\tlayers.Dense(20, activation='relu'),\n",
        "\t# layers.Dense(200, activation='relu'),\n",
        "\tlayers.Dense(80, activation='relu'),\n",
        "\t# layers.Dropout(0.3),\n",
        "\tlayers.Dense(400, activation='relu'),\n",
        "])(input_dirs)\n",
        "output_dirs = layers.Dense(10)(model_dirs)\n",
        "\n",
        "# CONCATENATED LAYERS\n",
        "input = layers.Concatenate()([\n",
        "\toutput_poss,\n",
        "\toutput_dirs,\n",
        "])\n",
        "model_concat = models.Sequential([\n",
        "\tlayers.Dense(80, activation='relu'),\n",
        "\t# layers.Dense(400, activation='relu'),\n",
        "\t# layers.Dense(1600, activation='relu'),\n",
        "\tlayers.Dense(200, activation='relu'),\n",
        "\tlayers.Dropout(0.3),\n",
        "\tlayers.Dense(800, activation='relu'),\n",
        "\tlayers.Dropout(0.3),\n",
        "\tlayers.Dense(80, activation='relu'),\n",
        "])(input)\n",
        "output = layers.Dense(4, activation='sigmoid')(model_concat)\n",
        "\n",
        "fixed_model = models.Model(inputs=[input_poss, input_dirs], outputs=output)\n",
        "\n",
        "fixed_model.summary()\n",
        "\n",
        "proceed_model(\n",
        "\t  model=fixed_model,\n",
        "\t  model_name=\"fixed_model\",\n",
        "\t  inputs=[fixed_poss, fixed_dirs],\n",
        "\t  outputs=fixed_y,\n",
        "\t  epochs=20,\n",
        "\t  verbose=1,\n",
        ")"
      ],
      "metadata": {
        "id": "dCD2a15U-Zgb"
      },
      "execution_count": null,
      "outputs": []
    },
    {
      "cell_type": "code",
      "source": [
        "\"\"\"\n",
        "0.985, 0.987, 0.9888\n",
        "0.998, 0.985, 0.9975\n",
        "0.995, 0.987, 0.9968\n",
        "0.997, 0.991, 0.9972\n",
        "\n",
        "\"\"\""
      ],
      "metadata": {
        "id": "QBxTnkgS-b3O"
      },
      "execution_count": null,
      "outputs": []
    },
    {
      "cell_type": "markdown",
      "source": [
        "# New Random Data Analytics"
      ],
      "metadata": {
        "id": "6T0C4JQqYqmV"
      }
    },
    {
      "cell_type": "markdown",
      "source": [
        "## Preprocessing"
      ],
      "metadata": {
        "id": "ONJFPGwGy-ic"
      }
    },
    {
      "cell_type": "code",
      "source": [
        "drive_url = \"/content/drive/MyDrive/Cloud/Temp Files/\"\n",
        "\n",
        "# FETCHING DATASET FILE\n",
        "with open(drive_url + \"latest_dataset.txt\", \"r\") as f:\n",
        "    content1 = f.read().split(\"\\n\")[1:]\n",
        "    maps1 = []\n",
        "    dirs1 = []\n",
        "    for line in content1:\n",
        "        maps1.append([int(i) for i in line[:-1].strip(\"[]\").split(\", \")])\n",
        "        dirs1.append(['u', 'l', 'd', 'r'].index(line[-1]))\n",
        "with open(drive_url + \"new_latest_dataset.txt\", \"r\") as f:\n",
        "    content2 = f.read().split(\"\\n\")[1:]\n",
        "    maps2 = []\n",
        "    dirs2 = []\n",
        "    for line in content2:\n",
        "        maps2.append( [int(i) for i in line[:-2].strip(\"[]\").split(\",\")] )\n",
        "        dirs2.append(int(line[-1]))\n",
        "\n",
        "# maps = np.array(maps2).astype(\"float32\")\n",
        "# dirs = np.array(dirs2).astype(\"int\")\n",
        "maps = np.concatenate([maps1, maps2]).astype(\"float32\")\n",
        "dirs = np.concatenate([dirs1, dirs2]).astype(\"int\")\n",
        "\n",
        "# SHUFFLING THE DATASET\n",
        "r = np.random.permutation(maps.shape[0])\n",
        "maps = maps[r]\n",
        "dirs = dirs[r]\n",
        "\n",
        "# GIVING ALL BODY PARTS SAME REPRESENTATION\n",
        "maps = np.where(maps > 3, 4, maps)\n",
        "\n",
        "# GETTING IMAGE MAPS\n",
        "maps_img = maps.reshape(maps.shape[0], 31, 28, 1)\n",
        "# GETTING POSSIBLE DIRECTIONS AND POSSITIONS OF HEAD AND FOOD\n",
        "def get_possition_dirs(x):\n",
        "    food_x, food_y = np.where(x == 2)[1], np.where(x == 2)[0]\n",
        "    head_x, head_y = np.where(x == 3)[1], np.where(x == 3)[0]\n",
        "\n",
        "    possible_dirs = [\n",
        "        int(x[head_y-1, head_x] == 0 or x[head_y-1, head_x] == 2),\n",
        "        int(x[head_y, head_x-1] == 0 or x[head_y, head_x-1] == 2),\n",
        "        int(x[head_y+1, head_x] == 0 or x[head_y+1, head_x] == 2),\n",
        "        int(x[head_y, head_x+1] == 0 or x[head_y, head_x+1] == 2),\n",
        "    ]\n",
        "    possitions = [head_x[0], head_y[0], food_x[0], food_y[0]]\n",
        "    possitions[0] /= 27\n",
        "    possitions[1] /= 30\n",
        "    possitions[2] /= 27\n",
        "    possitions[3] /= 30\n",
        "    return possitions, possible_dirs\n",
        "possitions = []\n",
        "possible_dirs = []\n",
        "for i in maps_img:\n",
        "    a = get_possition_dirs(i)\n",
        "    possitions.append(a[0])\n",
        "    possible_dirs.append(a[1])\n",
        "possitions = np.array(possitions)\n",
        "possible_dirs = np.array(possible_dirs)\n",
        "\n",
        "maps_img.shape, possitions.shape, possible_dirs.shape, dirs.shape"
      ],
      "metadata": {
        "id": "pbza_z3jYxLv",
        "colab": {
          "base_uri": "https://localhost:8080/"
        },
        "outputId": "d1edb6fd-95b3-474e-f332-c1013702ddf8"
      },
      "execution_count": 40,
      "outputs": [
        {
          "output_type": "execute_result",
          "data": {
            "text/plain": [
              "((10395, 31, 28, 1), (10395, 4), (10395, 4), (10395,))"
            ]
          },
          "metadata": {},
          "execution_count": 40
        }
      ]
    },
    {
      "cell_type": "code",
      "source": [
        "i = 10394\n",
        "print(possitions[i], possible_dirs[i], dirs[i])\n",
        "plt.matshow(maps_img[i,...,0])"
      ],
      "metadata": {
        "id": "igy7UqeGZKI_",
        "colab": {
          "base_uri": "https://localhost:8080/",
          "height": 334
        },
        "outputId": "143e8e5b-69e6-450a-b37b-a26485898464"
      },
      "execution_count": 42,
      "outputs": [
        {
          "output_type": "stream",
          "name": "stdout",
          "text": [
            "[0.44444444 0.5        0.22222222 0.03333333] [0 1 1 0] 2\n"
          ]
        },
        {
          "output_type": "execute_result",
          "data": {
            "text/plain": [
              "<matplotlib.image.AxesImage at 0x7fca355725d0>"
            ]
          },
          "metadata": {},
          "execution_count": 42
        },
        {
          "output_type": "display_data",
          "data": {
            "text/plain": [
              "<Figure size 288x318.857 with 1 Axes>"
            ],
            "image/png": "[encoded data removed]"
          },
          "metadata": {
            "needs_background": "light"
          }
        }
      ]
    },
    {
      "cell_type": "markdown",
      "source": [
        "## Transfer Learning"
      ],
      "metadata": {
        "id": "SMKTaTsDzBTP"
      }
    },
    {
      "cell_type": "code",
      "source": [
        "with open(finalized_random_model_url + \".json\") as f:\n",
        "    loaded_finalized_random_model = models.model_from_json(f.read())\n",
        "loaded_finalized_random_model.load_weights(finalized_random_model_url + \".h5\")\n",
        "transfer_model = loaded_finalized_fixed_model\n",
        "transfer_model.trainable = True\n",
        "\n",
        "input_poss = layers.Input(shape=possitions.shape[1:], name=\"input_poss\")\n",
        "input_dirs = layers.Input(shape=possible_dirs.shape[1:], name=\"input_dirs\")\n",
        "input_imgs = layers.Input(shape=maps_img.shape[1:], name=\"input_imgs\")\n",
        "input_tsfr = transfer_model([input_poss, input_dirs])\n",
        "\n",
        "model_imgs = models.Sequential([\n",
        "    # ==== imgs ==== \n",
        "    layers.Conv2D(64, 3, padding='SAME', activation='relu'),\n",
        "    layers.Conv2D(128, 3, padding='SAME', activation='relu'),\n",
        "    layers.AveragePooling2D(2),\n",
        "    layers.AveragePooling2D(2),\n",
        "    layers.MaxPooling2D(2),\n",
        "    layers.Flatten(),\n",
        "    layers.BatchNormalization(),\n",
        "    layers.Dropout(0.3),\n",
        "    layers.Dense(80, activation='relu'),\n",
        "    layers.Dense(900, activation='relu'),\n",
        "    layers.Dense(40, activation='relu'),\n",
        "    # ==============\n",
        "], name=\"model_imgs\")(input_imgs)\n",
        "model_tsfr = models.Sequential([\n",
        "    # ==== tsfr ==== \n",
        "    layers.Dense(80, activation='relu'),\n",
        "    layers.Dropout(0.3),\n",
        "    layers.Dense(800, activation='relu'),\n",
        "    layers.Dense(900, activation='relu'),\n",
        "    layers.Dense(400, activation='relu'),\n",
        "    layers.Dropout(0.3),\n",
        "    layers.Dense(80, activation='relu'),\n",
        "\n",
        "    layers.Dropout(0.3),\n",
        "    # ==============\n",
        "], name=\"model_tsfr\")(input_tsfr)\n",
        "\n",
        "output_imgs = layers.Dense(10, activation='relu', name=\"output_imgs\")(model_imgs)\n",
        "output_tsfr = layers.Dense(10, activation='relu', name=\"output_tsfr\")(model_tsfr)\n",
        "\n",
        "input_conc = layers.Concatenate(name=\"input_conc\")([output_imgs, output_tsfr])\n",
        "model_conc = models.Sequential([\n",
        "    # ==== conc ==== \n",
        "    layers.Dense(80, activation='relu'),\n",
        "    layers.BatchNormalization(),\n",
        "    layers.Dropout(0.3),\n",
        "    layers.Dense(400, activation='relu'),\n",
        "    layers.Dense(800, activation='relu'),\n",
        "    layers.Dense(900, activation='relu'),\n",
        "    layers.BatchNormalization(),\n",
        "    layers.Dropout(0.3),\n",
        "    layers.Dense(80, activation='relu'),\n",
        "\n",
        "    layers.BatchNormalization(),\n",
        "    # ==============\n",
        "], name=\"model_conc\")(input_conc)\n",
        "output_conc = layers.Dense(4, activation='sigmoid', name=\"output_conc\")(model_conc)\n",
        "\n",
        "new_random_model = models.Model(inputs=[input_imgs, input_poss, input_dirs], outputs=output_conc, name=\"random_model\")\n",
        "\n",
        "# new_random_model.summary()\n",
        "# tf.keras.utils.plot_model(\n",
        "# \tnew_random_model,\n",
        "# \t'ploted_img.png',\n",
        "# \tshow_shapes=True\n",
        "# )\n",
        "\n",
        "with tf.device('GPU:0'):\n",
        "    proceed_model(\n",
        "        model=new_random_model,\n",
        "        inputs=[maps_img, possitions, possible_dirs],\n",
        "        outputs=dirs,\n",
        "        model_name='new_random_model',\n",
        "        epochs=50,\n",
        "        verbose=0,\n",
        "        patience=100,\n",
        "        test_size=0.2,\n",
        "        callback_monitor='acc',\n",
        "        include_callbacks=True,\n",
        "        extract_valid=False\n",
        "    )"
      ],
      "metadata": {
        "colab": {
          "base_uri": "https://localhost:8080/",
          "height": 397
        },
        "id": "k7Ylhh9MjwGd",
        "outputId": "c0b98bb7-c0d2-4289-ff4f-bd228a1a57b0"
      },
      "execution_count": 44,
      "outputs": [
        {
          "output_type": "display_data",
          "data": {
            "text/plain": [
              "<Figure size 1440x288 with 2 Axes>"
            ],
            "image/png": "[encoded data removed]"
          },
          "metadata": {
            "needs_background": "light"
          }
        },
        {
          "output_type": "stream",
          "name": "stdout",
          "text": [
            "\n",
            "acc      : 0.971\n",
            "val_acc  : 0.949\n",
            "loss     : 0.1\n",
            "val_loss : 0.148\n",
            "\t\n",
            "65/65 [==============================] - 2s 12ms/step - loss: 0.1442 - acc: 0.9586\n"
          ]
        }
      ]
    },
    {
      "cell_type": "code",
      "source": [
        "\"\"\"\n",
        "0.97  0.953 0.9663\n",
        "0.97  0.952 0.9500\n",
        "0.976 0.93  0.9321\n",
        "\"\"\""
      ],
      "metadata": {
        "id": "qllcTcsIom6x"
      },
      "execution_count": null,
      "outputs": []
    },
    {
      "cell_type": "code",
      "source": [
        "with open(finalized_random_model_url + \".json\") as f:\n",
        "    loaded_finalized_random_model = models.model_from_json(f.read())\n",
        "loaded_finalized_random_model.load_weights(finalized_random_model_url + \".h5\")\n",
        "transfer_model = loaded_finalized_fixed_model\n",
        "transfer_model.trainable = True\n",
        "\n",
        "input_poss = layers.Input(shape=possitions.shape[1:], name=\"input_poss\")\n",
        "input_dirs = layers.Input(shape=possible_dirs.shape[1:], name=\"input_dirs\")\n",
        "input_imgs = layers.Input(shape=maps_img.shape[1:], name=\"input_imgs\")\n",
        "input_tsfr = transfer_model([input_poss, input_dirs])\n",
        "\n",
        "model_imgs = models.Sequential([\n",
        "    # ==== imgs ==== \n",
        "    layers.Flatten()\n",
        "    # ==============\n",
        "], name=\"model_imgs\")(input_imgs)\n",
        "model_tsfr = models.Sequential([\n",
        "    # ==== tsfr ==== \n",
        "    layers.BatchNormalization(),\n",
        "    layers.BatchNormalization(),\n",
        "    layers.BatchNormalization(),\n",
        "    # ==============\n",
        "], name=\"model_tsfr\")(input_tsfr)\n",
        "\n",
        "output_imgs = layers.Dense(10, activation='relu', name=\"output_imgs\")(model_imgs)\n",
        "output_tsfr = layers.Dense(10, activation='relu', name=\"output_tsfr\")(model_tsfr)\n",
        "\n",
        "input_conc = layers.Concatenate(name=\"input_conc\")([output_imgs, output_tsfr])\n",
        "model_conc = models.Sequential([\n",
        "    # ==== conc ==== \n",
        "    # layers.Dense(80, activation='relu'),\n",
        "    # layers.Dense(400, activation='relu'),\n",
        "    # layers.Dense(900, activation='relu'),\n",
        "    # layers.Dense(20, activation='relu'),\n",
        "    # ==============\n",
        "], name=\"model_conc\")(input_conc)\n",
        "output_conc = layers.Dense(4, activation='sigmoid', name=\"output_conc\")(model_conc)\n",
        "\n",
        "new_random_model = models.Model(inputs=[input_imgs, input_poss, input_dirs], outputs=output_conc, name=\"random_model\")\n",
        "\n",
        "# new_random_model.summary()\n",
        "# tf.keras.utils.plot_model(\n",
        "# \tnew_random_model,\n",
        "# \t'ploted_img.png',\n",
        "# \tshow_shapes=True\n",
        "# )\n",
        "\n",
        "with tf.device('GPU:0'):\n",
        "    proceed_model(\n",
        "        model=new_random_model,\n",
        "        inputs=[maps_img, possitions, possible_dirs],\n",
        "        outputs=dirs,\n",
        "        model_name='new_random_model',\n",
        "        epochs=50,\n",
        "        verbose=0,\n",
        "        patience=100,\n",
        "        test_size=0.2,\n",
        "        callback_monitor='acc',\n",
        "        include_callbacks=True,\n",
        "        extract_valid=False\n",
        "    )"
      ],
      "metadata": {
        "colab": {
          "base_uri": "https://localhost:8080/",
          "height": 397
        },
        "id": "YVvqpU7LZct9",
        "outputId": "c43d2898-4197-43f5-bc5d-05448f8cde4b"
      },
      "execution_count": 35,
      "outputs": [
        {
          "output_type": "display_data",
          "data": {
            "text/plain": [
              "<Figure size 1440x288 with 2 Axes>"
            ],
            "image/png": "[encoded data removed]"
          },
          "metadata": {
            "needs_background": "light"
          }
        },
        {
          "output_type": "stream",
          "name": "stdout",
          "text": [
            "\n",
            "acc      : 0.975\n",
            "val_acc  : 0.943\n",
            "loss     : 0.073\n",
            "val_loss : 0.198\n",
            "\t\n",
            "46/46 [==============================] - 1s 4ms/step - loss: 0.1984 - acc: 0.9431\n"
          ]
        }
      ]
    },
    {
      "cell_type": "code",
      "source": [
        "0.975\n",
        "0.943"
      ],
      "metadata": {
        "id": "zKg8E9MAft_W"
      },
      "execution_count": null,
      "outputs": []
    },
    {
      "cell_type": "markdown",
      "source": [
        "# Using Previous Random Method"
      ],
      "metadata": {
        "id": "-5t-FhDlzOYT"
      }
    },
    {
      "cell_type": "code",
      "source": [
        "input_imgs = layers.Input(shape=maps_img.shape[1:], name=\"input_imgs\")\n",
        "input_poss = layers.Input(shape=possitions.shape[1:], name=\"input_poss\")\n",
        "input_dirs = layers.Input(shape=possible_dirs.shape[1:], name=\"input_dirs\")\n",
        "\n",
        "model_imgs = models.Sequential([\n",
        "    # ==== imgs ==== \n",
        "    layers.Conv2D(64, 3, padding='SAME', activation='relu'),\n",
        "    layers.Conv2D(128, 3, padding='SAME', activation='relu'),\n",
        "    layers.AveragePooling2D(2),\n",
        "    layers.AveragePooling2D(2),\n",
        "    layers.MaxPooling2D(2),\n",
        "    layers.Flatten(),\n",
        "    layers.Dense(80, activation='relu'),\n",
        "    layers.Dense(400, activation='relu'),\n",
        "    layers.Dropout(0.5),\n",
        "    layers.Dense(800, activation='relu'),\n",
        "    layers.Dropout(0.5),\n",
        "    layers.Dense(40, activation='relu'),\n",
        "    layers.Dense(80, activation='relu'),\n",
        "    # ==============\n",
        "], name=\"model_imgs\")(input_imgs)\n",
        "model_poss = models.Sequential([\n",
        "    # ==== poss ==== \n",
        "    layers.Dense(40, activation=\"relu\"),\n",
        "    layers.Dense(800, activation=\"relu\"),\n",
        "    layers.Dropout(0.4),\n",
        "    layers.Dense(20, activation=\"relu\"),\n",
        "    # ==============\n",
        "], name=\"model_poss\")(input_poss)\n",
        "model_dirs = models.Sequential([\n",
        "    # ==== dirs ==== \n",
        "    layers.Dense(40, activation=\"relu\"),\n",
        "    layers.Dense(800, activation=\"relu\"),\n",
        "    layers.Dropout(0.4),\n",
        "    layers.Dense(20, activation=\"relu\"),\n",
        "    # ==============\n",
        "], name=\"model_dirs\")(input_dirs)\n",
        "\n",
        "output_imgs = layers.Dense(10, activation='relu', name=\"output_imgs\")(model_imgs)\n",
        "output_poss = layers.Dense(5, activation='relu', name=\"output_poss\")(model_poss)\n",
        "output_dirs = layers.Dense(10, activation='relu', name=\"output_dirs\")(model_dirs)\n",
        "\n",
        "input_conc = layers.Concatenate(name=\"input_conc\")([output_imgs, output_poss, output_dirs])\n",
        "model_conc = models.Sequential([\n",
        "    # ==== conc ==== \n",
        "    layers.Dense(20, activation='relu'),\n",
        "    layers.Dense(100, activation='relu'),\n",
        "    layers.Dropout(0.4),\n",
        "    layers.Dense(400, activation='relu'),\n",
        "    layers.Dropout(0.4),\n",
        "    layers.Dense(800, activation='relu'),\n",
        "    layers.Dropout(0.4),\n",
        "    layers.Dense(20, activation='relu'),\n",
        "    layers.Dropout(0.4),\n",
        "    layers.Dense(100, activation='relu'),\n",
        "    layers.Dense(10, activation='relu'),\n",
        "    # ==============\n",
        "], name=\"model_conc\")(input_conc)\n",
        "output_conc = layers.Dense(4, activation='sigmoid', name=\"output_conc\")(model_conc)\n",
        "\n",
        "# new_random_model = models.Model(inputs=[input_imgs, input_poss, input_dirs], outputs=output_conc)\n",
        "# new_random_model.summary()\n",
        "# tf.keras.utils.plot_model(\n",
        "# \tnew_random_model,\n",
        "# \t'ploted_img.png',\n",
        "# \tshow_shapes=True\n",
        "# )\n",
        "\n",
        "# with tf.device('GPU:0'):\n",
        "#     proceed_model(\n",
        "#         model=new_random_model,\n",
        "#         inputs=[maps_img, possitions, possible_dirs],\n",
        "#         outputs=dirs,\n",
        "#         model_name='new_random_model',\n",
        "#         epochs=1000,\n",
        "#         verbose=0,\n",
        "#         patience=0,\n",
        "#         test_size=0.2,\n",
        "#         callback_monitor='acc',\n",
        "#         include_callbacks=True,\n",
        "#         extract_valid=False\n",
        "#     )\n"
      ],
      "metadata": {
        "id": "VGMJ7Fc3h_kl",
        "colab": {
          "base_uri": "https://localhost:8080/",
          "height": 1000
        },
        "outputId": "0cf8a852-b14a-4f7e-e8ae-77f72177c267"
      },
      "execution_count": 5,
      "outputs": [
        {
          "output_type": "stream",
          "name": "stdout",
          "text": [
            "Model: \"model\"\n",
            "__________________________________________________________________________________________________\n",
            " Layer (type)                   Output Shape         Param #     Connected to                     \n",
            "==================================================================================================\n",
            " input_imgs (InputLayer)        [(None, 31, 28, 1)]  0           []                               \n",
            "                                                                                                  \n",
            " input_poss (InputLayer)        [(None, 4)]          0           []                               \n",
            "                                                                                                  \n",
            " input_dirs (InputLayer)        [(None, 4)]          0           []                               \n",
            "                                                                                                  \n",
            " model_imgs (Sequential)        (None, 80)           555256      ['input_imgs[0][0]']             \n",
            "                                                                                                  \n",
            " model_poss (Sequential)        (None, 20)           49020       ['input_poss[0][0]']             \n",
            "                                                                                                  \n",
            " model_dirs (Sequential)        (None, 20)           49020       ['input_dirs[0][0]']             \n",
            "                                                                                                  \n",
            " output_imgs (Dense)            (None, 10)           810         ['model_imgs[0][0]']             \n",
            "                                                                                                  \n",
            " output_poss (Dense)            (None, 5)            105         ['model_poss[0][0]']             \n",
            "                                                                                                  \n",
            " output_dirs (Dense)            (None, 10)           210         ['model_dirs[0][0]']             \n",
            "                                                                                                  \n",
            " input_conc (Concatenate)       (None, 25)           0           ['output_imgs[0][0]',            \n",
            "                                                                  'output_poss[0][0]',            \n",
            "                                                                  'output_dirs[0][0]']            \n",
            "                                                                                                  \n",
            " model_conc (Sequential)        (None, 10)           382950      ['input_conc[0][0]']             \n",
            "                                                                                                  \n",
            " output_conc (Dense)            (None, 4)            44          ['model_conc[0][0]']             \n",
            "                                                                                                  \n",
            "==================================================================================================\n",
            "Total params: 1,037,415\n",
            "Trainable params: 1,037,415\n",
            "Non-trainable params: 0\n",
            "__________________________________________________________________________________________________\n"
          ]
        },
        {
          "output_type": "execute_result",
          "data": {
            "text/plain": [
              "<IPython.core.display.Image object>"
            ],
            "image/png": "[encoded data removed]"
          },
          "metadata": {},
          "execution_count": 5
        }
      ]
    },
    {
      "cell_type": "code",
      "source": [
        "# 98, 93"
      ],
      "metadata": {
        "id": "wLQTy5DXZYy4"
      },
      "execution_count": null,
      "outputs": []
    },
    {
      "cell_type": "markdown",
      "source": [
        "## Using Maps image"
      ],
      "metadata": {
        "id": "I5-E9S7q6bCm"
      }
    },
    {
      "cell_type": "code",
      "source": [
        "new_random_model = models.Sequential([\n",
        "    layers.Input(shape=maps_img.shape[1:]),\n",
        "    layers.Conv2D(32, 3, padding='SAME', activation='relu'),\n",
        "    layers.MaxPooling2D(2),\n",
        "    layers.Flatten(),\n",
        "    layers.Dense(4, activation='sigmoid'),\n",
        "])\n",
        "proceed_model(\n",
        "    model=new_random_model,\n",
        "    inputs=maps_img,\n",
        "    outputs=dirs,\n",
        "    model_name='new_random_model',\n",
        "    epochs=50,\n",
        "    verbose=0,\n",
        "    patience=200,\n",
        "    test_size=0.2,\n",
        "    plot_val=False,\n",
        "    include_callbacks=True,\n",
        ")"
      ],
      "metadata": {
        "id": "emBSe17L81N7"
      },
      "execution_count": null,
      "outputs": []
    },
    {
      "cell_type": "code",
      "source": [
        "\"\"\"\n",
        "0.977  0.8349\n",
        "\n",
        "\n",
        "\"\"\""
      ],
      "metadata": {
        "id": "yjzeFZs07sO1"
      },
      "execution_count": null,
      "outputs": []
    },
    {
      "cell_type": "markdown",
      "source": [
        "## Using Flat Map"
      ],
      "metadata": {
        "id": "H5dx0ZZf6YvR"
      }
    },
    {
      "cell_type": "code",
      "source": [
        "new_random_model = models.Sequential([\n",
        "    layers.Input(shape=maps.shape[1:]),\n",
        "    layers.Dense(80, activation='relu'),\n",
        "    layers.Dense(800, activation='relu'),\n",
        "    layers.Dense(1600, activation='relu'),\n",
        "    layers.Dense(2400, activation='relu'),\n",
        "    layers.Dense(1000, activation='relu'),\n",
        "    layers.Dense(20, activation='relu'),\n",
        "    layers.Dense(4, activation='sigmoid'),\n",
        "])\n",
        "proceed_model(\n",
        "    model=new_random_model,\n",
        "    inputs=maps,\n",
        "    outputs=dirs,\n",
        "    model_name='new_random_model',\n",
        "    epochs=100,\n",
        "    verbose=0,\n",
        "    patience=200,\n",
        "    test_size=0.2,\n",
        "    plot_val=False,\n",
        "    include_callbacks=True,\n",
        ")"
      ],
      "metadata": {
        "id": "aYufhT_LaEt2"
      },
      "execution_count": null,
      "outputs": []
    },
    {
      "cell_type": "code",
      "source": [
        ""
      ],
      "metadata": {
        "id": "SUEetM9s069e"
      },
      "execution_count": null,
      "outputs": []
    }
  ]
}